{
 "cells": [
  {
   "cell_type": "code",
   "execution_count": 2,
   "metadata": {},
   "outputs": [
    {
     "name": "stdout",
     "output_type": "stream",
     "text": [
      "POINT (1 2)\n",
      "POINT (2 3)\n",
      "POINT (5 4)\n"
     ]
    }
   ],
   "source": [
    "from shapely.geometry import Point, LineString, Polygon\n",
    "\n",
    "def createPointGeom(x_coord, y_coord):\n",
    "    pnt = Point(x_coord, y_coord)\n",
    "    return pnt\n",
    "\n",
    "    \n",
    "point1 = createPointGeom(1,2) \n",
    "point2 = createPointGeom(2,3) \n",
    "point3 = createPointGeom(5,4) \n",
    "\n",
    "print (point1)\n",
    "print (point2)\n",
    "print (point3)\n",
    "\n",
    "    "
   ]
  },
  {
   "cell_type": "code",
   "execution_count": 3,
   "metadata": {},
   "outputs": [
    {
     "name": "stdout",
     "output_type": "stream",
     "text": [
      "LINESTRING (2.2 4.2, 7.2 -25.1, 9.26 -2.456)\n",
      "LINESTRING (1 2, 2 3, 5 4)\n"
     ]
    }
   ],
   "source": [
    "def createLineGeom(pnts):\n",
    "    pnt_list=[]\n",
    "    for i in pnts:\n",
    "        if isinstance(i, Point):\n",
    "            pnt_list.append(i)\n",
    "        else:\n",
    "            pnt=Point(i)\n",
    "            pnt_list.append(pnt)\n",
    "    return LineString(pnt_list)\n",
    "\n",
    "# variable \"line1\" will be used afterwards\n",
    "line1 = createLineGeom([(2.2, 4.2), (7.2, -25.1), (9.26, -2.456)])\n",
    "print (line1)\n",
    "print (createLineGeom([point1, point2, point3]))"
   ]
  },
  {
   "cell_type": "code",
   "execution_count": 4,
   "metadata": {},
   "outputs": [
    {
     "name": "stdout",
     "output_type": "stream",
     "text": [
      "POLYGON ((2.2 4.2, 7.2 -25.1, 9.26 -2.456, 2.2 4.2))\n"
     ]
    },
    {
     "data": {
      "image/svg+xml": [
       "<svg xmlns=\"http://www.w3.org/2000/svg\" xmlns:xlink=\"http://www.w3.org/1999/xlink\" width=\"100.0\" height=\"100.0\" viewBox=\"1.028 -26.272000000000002 9.404 31.644000000000002\" preserveAspectRatio=\"xMinYMin meet\"><g transform=\"matrix(1,0,0,-1,0,-20.900000000000002)\"><path fill-rule=\"evenodd\" fill=\"#66cc99\" stroke=\"#555555\" stroke-width=\"0.63288\" opacity=\"0.6\" d=\"M 2.2,4.2 L 7.2,-25.1 L 9.26,-2.456 L 2.2,4.2 z\" /></g></svg>"
      ],
      "text/plain": [
       "<shapely.geometry.polygon.Polygon at 0x17934265e80>"
      ]
     },
     "metadata": {},
     "output_type": "display_data"
    },
    {
     "name": "stdout",
     "output_type": "stream",
     "text": [
      "POLYGON ((1 2, 2 3, 5 4, 1 2))\n"
     ]
    },
    {
     "data": {
      "image/svg+xml": [
       "<svg xmlns=\"http://www.w3.org/2000/svg\" xmlns:xlink=\"http://www.w3.org/1999/xlink\" width=\"100.0\" height=\"100.0\" viewBox=\"0.84 1.84 4.32 2.3200000000000003\" preserveAspectRatio=\"xMinYMin meet\"><g transform=\"matrix(1,0,0,-1,0,6.0)\"><path fill-rule=\"evenodd\" fill=\"#66cc99\" stroke=\"#555555\" stroke-width=\"0.0864\" opacity=\"0.6\" d=\"M 1.0,2.0 L 2.0,3.0 L 5.0,4.0 L 1.0,2.0 z\" /></g></svg>"
      ],
      "text/plain": [
       "<shapely.geometry.polygon.Polygon at 0x17934265e10>"
      ]
     },
     "metadata": {},
     "output_type": "display_data"
    }
   ],
   "source": [
    "def createPolyGeom(lst):\n",
    "    l=[]\n",
    "    # if len(lst)>=3:\n",
    "    for item in lst:\n",
    "        if isinstance(item, Point):\n",
    "            l.append(item)\n",
    "        else:\n",
    "            pnt = Point(item)\n",
    "            l.append(pnt)\n",
    " \n",
    "    return Polygon([[p.x, p.y] for p in l])\n",
    "\n",
    "pol1 = createPolyGeom([(2.2, 4.2), (7.2, -25.1), (9.26, -2.456)])\n",
    "pol2 = createPolyGeom([[p.x, p.y] for p in [point1, point2, point3]])\n",
    "\n",
    "print(pol1)\n",
    "display(pol1)\n",
    "\n",
    "print(pol2)\n",
    "display(pol2)\n"
   ]
  },
  {
   "cell_type": "code",
   "execution_count": 5,
   "metadata": {},
   "outputs": [
    {
     "name": "stdout",
     "output_type": "stream",
     "text": [
      "POINT (1 2)\n",
      "POINT (6.229961354035622 -11.89241115757239)\n",
      "POINT (6.22 -7.785333333333334)\n"
     ]
    }
   ],
   "source": [
    "def getCentroid(input):\n",
    "    # return input.centroid\n",
    "    if isinstance(input, list):\n",
    "        inp_lst=[]\n",
    "        for i in input:\n",
    "            if isinstance(i, Point):\n",
    "                inp_lst.append(input)\n",
    "        input=LineString(inp_lst)\n",
    "        return input.centroid\n",
    "    else: \n",
    "        return input.centroid\n",
    "\n",
    "print(getCentroid(point1))\n",
    "#print(getCentroid(point1, point2)\n",
    "      \n",
    "print(getCentroid(line1))\n",
    "print(getCentroid(pol1))\n"
   ]
  },
  {
   "cell_type": "code",
   "execution_count": 6,
   "metadata": {},
   "outputs": [
    {
     "name": "stdout",
     "output_type": "stream",
     "text": [
      "86.78900000000002\n",
      "\n",
      "Sorry, not a polygon\n",
      "None\n"
     ]
    }
   ],
   "source": [
    "def getArea(input):\n",
    "    if isinstance(input, Polygon):\n",
    "        pol_area = input.area\n",
    "        return pol_area \n",
    "    else:\n",
    "        print(\"Sorry, not a polygon\")        \n",
    "        exit()\n",
    "\n",
    "print(getArea(pol1))\n",
    "print()\n",
    "print(getArea(point1))"
   ]
  },
  {
   "cell_type": "code",
   "execution_count": 7,
   "metadata": {},
   "outputs": [
    {
     "name": "stdout",
     "output_type": "stream",
     "text": [
      "Error: LineString or Polygon geometries required!\n",
      "The length of your line is 52.46106912939557\n",
      "The length of your polygon's exterior is 62.16395199996553\n"
     ]
    }
   ],
   "source": [
    "def getLength(input):\n",
    "    # if instance(input, LineString) or isinstance(input, Polygon):\n",
    "        # input_len=input.length\n",
    "    if isinstance(input, LineString):\n",
    "        l_length = input.length\n",
    "        return l_length\n",
    "    if isinstance(input, Polygon):\n",
    "        pol_exter = input.exterior.length\n",
    "        return pol_exter\n",
    "    else:\n",
    "        print(\"Error: LineString or Polygon geometries required!\")\n",
    "    \n",
    "        \n",
    "leng = getLength(point1)\n",
    "if leng!=None:\n",
    "    print(\"The length of your line is \" + str(leng))\n",
    "\n",
    "leng = getLength(line1)\n",
    "if leng!=None:\n",
    "    print(\"The length of your line is \" + str(leng))\n",
    "\n",
    "leng = getLength(pol1)\n",
    "if leng!=None:\n",
    "    print(\"The length of your polygon's exterior is \" + str(leng))"
   ]
  },
  {
   "cell_type": "code",
   "execution_count": 8,
   "metadata": {},
   "outputs": [
    {
     "name": "stdout",
     "output_type": "stream",
     "text": [
      "   from_id    to_id      fromid_toid                  ...                   \\\n",
      "0  5861326  5785640  5861326_5785640                  ...                    \n",
      "1  5861326  5785641  5861326_5785641                  ...                    \n",
      "2  5861326  5785642  5861326_5785642                  ...                    \n",
      "3  5861326  5785643  5861326_5785643                  ...                    \n",
      "4  5861326  5787544  5861326_5787544                  ...                    \n",
      "\n",
      "   route_total_lines                    orig_points  \\\n",
      "0                2.0  POINT (24.9704379 60.3119173)   \n",
      "1                2.0  POINT (24.9704379 60.3119173)   \n",
      "2                2.0  POINT (24.9704379 60.3119173)   \n",
      "3                2.0  POINT (24.9704379 60.3119173)   \n",
      "4                2.0  POINT (24.9704379 60.3119173)   \n",
      "\n",
      "                            dest_points  \n",
      "0         POINT (24.8560344 60.3999406)  \n",
      "1         POINT (24.8605682 60.4000135)  \n",
      "2          POINT (24.865102 60.4000863)  \n",
      "3         POINT (24.8696358 60.4001589)  \n",
      "4  POINT (24.8425817 60.39747779999999)  \n",
      "\n",
      "[5 rows x 15 columns]\n"
     ]
    }
   ],
   "source": [
    "import pandas as pd\n",
    "df = pd.read_csv(r'C:\\Users\\daiga86\\geopython\\L1\\travelTimes_2015_Helsinki.csv', sep=';', encoding='latin1')\n",
    "pd.set_option('max_columns',6)\n",
    "\n",
    "def orig(row):\n",
    "    return Point(row['from_x'], row['from_y'])\n",
    "\n",
    "def dest(row):\n",
    "    return Point(row['to_x'], row['to_y'])\n",
    "\n",
    "df['orig_points'] = df.apply(orig, axis=1)\n",
    "df['dest_points'] = df.apply(dest, axis=1)\n",
    "\n",
    "print(df.head(5))\n",
    "#display(df.head(5))\n"
   ]
  },
  {
   "cell_type": "code",
   "execution_count": 9,
   "metadata": {},
   "outputs": [
    {
     "name": "stdout",
     "output_type": "stream",
     "text": [
      "   from_id    to_id      fromid_toid    ...     \\\n",
      "0  5861326  5785640  5861326_5785640    ...      \n",
      "1  5861326  5785641  5861326_5785641    ...      \n",
      "2  5861326  5785642  5861326_5785642    ...      \n",
      "3  5861326  5785643  5861326_5785643    ...      \n",
      "4  5861326  5787544  5861326_5787544    ...      \n",
      "\n",
      "                            dest_points  \\\n",
      "0         POINT (24.8560344 60.3999406)   \n",
      "1         POINT (24.8605682 60.4000135)   \n",
      "2          POINT (24.865102 60.4000863)   \n",
      "3         POINT (24.8696358 60.4001589)   \n",
      "4  POINT (24.8425817 60.39747779999999)   \n",
      "\n",
      "                                               lines    length  \n",
      "0  LINESTRING (24.9704379 60.3119173, 24.8560344 ...  0.144348  \n",
      "1  LINESTRING (24.9704379 60.3119173, 24.8605682 ...  0.140827  \n",
      "2  LINESTRING (24.9704379 60.3119173, 24.865102 6...  0.137366  \n",
      "3  LINESTRING (24.9704379 60.3119173, 24.8696358 ...  0.133969  \n",
      "4  LINESTRING (24.9704379 60.3119173, 24.8425817 ...  0.153843  \n",
      "\n",
      "[5 rows x 17 columns]\n",
      "\n",
      "The average length of the distance between origin and destination is  0.2150222482322721\n"
     ]
    }
   ],
   "source": [
    "def linstr(row): \n",
    "    return LineString([row['orig_points'], row['dest_points']])\n",
    "\n",
    "def leng(row):\n",
    "    return row['lines'].length\n",
    "     \n",
    "df['lines'] = df.apply(linstr, axis=1)\n",
    "df['length'] = df.apply(leng, axis=1)\n",
    "\n",
    "print(df.head(5))\n",
    "print()\n",
    "print(\"The average length of the distance between origin and destination is \", df['length'].mean(axis=0))"
   ]
  },
  {
   "cell_type": "code",
   "execution_count": null,
   "metadata": {},
   "outputs": [],
   "source": []
  }
 ],
 "metadata": {
  "kernelspec": {
   "display_name": "Python 3",
   "language": "python",
   "name": "python3"
  },
  "language_info": {
   "codemirror_mode": {
    "name": "ipython",
    "version": 3
   },
   "file_extension": ".py",
   "mimetype": "text/x-python",
   "name": "python",
   "nbconvert_exporter": "python",
   "pygments_lexer": "ipython3",
   "version": "3.6.6"
  }
 },
 "nbformat": 4,
 "nbformat_minor": 2
}
