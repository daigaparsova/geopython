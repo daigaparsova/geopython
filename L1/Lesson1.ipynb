{
 "cells": [
  {
   "cell_type": "code",
   "execution_count": 17,
   "metadata": {},
   "outputs": [
    {
     "name": "stdout",
     "output_type": "stream",
     "text": [
      "POINT (2.2 4.2)\n",
      "POINT Z (9.26 -2.456 0.57)\n",
      "<class 'shapely.geometry.point.Point'>\n",
      "(array('d', [2.2]), array('d', [4.2]))\n",
      "2.2\n",
      "4.2\n"
     ]
    },
    {
     "data": {
      "image/svg+xml": [
       "<svg xmlns=\"http://www.w3.org/2000/svg\" xmlns:xlink=\"http://www.w3.org/1999/xlink\" width=\"100.0\" height=\"100.0\" viewBox=\"6.2 -26.1 1.9999999999999991 2.0\" preserveAspectRatio=\"xMinYMin meet\"><g transform=\"matrix(1,0,0,-1,0,-50.2)\"><circle cx=\"7.2\" cy=\"-25.1\" r=\"0.06\" stroke=\"#555555\" stroke-width=\"0.02\" fill=\"#66cc99\" opacity=\"0.6\" /></g></svg>"
      ],
      "text/plain": [
       "<shapely.geometry.point.Point at 0x2ca9561a978>"
      ]
     },
     "metadata": {},
     "output_type": "display_data"
    },
    {
     "name": "stdout",
     "output_type": "stream",
     "text": [
      "Distance between the points is 29.72 decimal degrees\n"
     ]
    }
   ],
   "source": [
    "from shapely.geometry import Point, LineString, Polygon\n",
    "point1 = Point(2.2, 4.2)\n",
    "point2 = Point(7.2, -25.1)\n",
    "point3 = Point(9.26, -2.456)\n",
    "point3D = Point(9.26, -2.456, 0.57)\n",
    "point_type = type(point1)\n",
    "print(point1)\n",
    "print(point3D)\n",
    "print(type(point1))\n",
    "\n",
    "point_coords = point1.coords\n",
    "type(point_coords)\n",
    "\n",
    "# Get x and y coordinates\n",
    "xy = point_coords.xy\n",
    "# Get only x coordinates of Point1\n",
    "x = point1.x\n",
    "# Whatabout y coordinate?\n",
    "y = point1.y\n",
    "\n",
    "print(xy)\n",
    "\n",
    "print(x)\n",
    "print(y)\n",
    "\n",
    "display(point2)\n",
    "\n",
    "\n",
    "\n",
    "# Calculate the distance between point1 and point2\n",
    "point_dist = point1.distance(point2)\n",
    "\n",
    "print(\"Distance between the points is {0:.2f} decimal degrees\".format(point_dist))\n"
   ]
  },
  {
   "cell_type": "code",
   "execution_count": 20,
   "metadata": {},
   "outputs": [
    {
     "name": "stdout",
     "output_type": "stream",
     "text": [
      "3306.1044 for equatorial radius in km\n",
      "3294.7004 for polar radius in km\n",
      "3286.3538 for ellipsoid WGS84 in km\n"
     ]
    }
   ],
   "source": [
    "#Side note on distances in GIS\n",
    "\n",
    "# law of cosines - determines the great-circle distance between two points on a sphere given their longitudes and latitudes based on \"basic math\"\n",
    "import math\n",
    "\n",
    "distance = math.acos(math.sin(math.radians(point1.y))*math.sin(math.radians(point2.y))+math.cos(math.radians(point1.y))*math.cos(math.radians(point2.y))*math.cos(math.radians(point2.x)-math.radians(point1.x)))*6378\n",
    "\n",
    "print( \"{0:8.4f} for equatorial radius in km\".format(distance))\n",
    "\n",
    "\n",
    "distance = math.acos(math.sin(math.radians(point1.y))*math.sin(math.radians(point2.y))+math.cos(math.radians(point1.y))*math.cos(math.radians(point2.y))*math.cos(math.radians(point2.x)-math.radians(point1.x)))*6356\n",
    "\n",
    "print( \"{0:8.4f} for polar radius in km\".format(distance))\n",
    "\n",
    "\n",
    "\n",
    "# with pyproj - projection library\n",
    "import pyproj\n",
    "\n",
    "geod = pyproj.Geod(ellps='WGS84')\n",
    "\n",
    "angle1,angle2,distance = geod.inv(point1.x, point1.y, point2.x, point2.y)\n",
    "\n",
    "print (\"{0:8.4f} for ellipsoid WGS84 in km\".format(distance/1000))"
   ]
  },
  {
   "cell_type": "code",
   "execution_count": 36,
   "metadata": {},
   "outputs": [
    {
     "ename": "TypeError",
     "evalue": "'LineString' object is not iterable",
     "output_type": "error",
     "traceback": [
      "\u001b[1;31m---------------------------------------------------------------------------\u001b[0m",
      "\u001b[1;31mTypeError\u001b[0m                                 Traceback (most recent call last)",
      "\u001b[1;32m<ipython-input-36-846543d75f19>\u001b[0m in \u001b[0;36m<module>\u001b[1;34m\u001b[0m\n\u001b[0;32m      8\u001b[0m \u001b[1;33m\u001b[0m\u001b[0m\n\u001b[0;32m      9\u001b[0m \u001b[1;33m\u001b[0m\u001b[0m\n\u001b[1;32m---> 10\u001b[1;33m \u001b[1;32mfor\u001b[0m \u001b[0mi\u001b[0m \u001b[1;32min\u001b[0m \u001b[0mline2\u001b[0m\u001b[1;33m:\u001b[0m\u001b[1;33m\u001b[0m\u001b[0m\n\u001b[0m\u001b[0;32m     11\u001b[0m     \u001b[0mprint\u001b[0m \u001b[1;33m(\u001b[0m\u001b[0mi\u001b[0m\u001b[1;33m)\u001b[0m\u001b[1;33m\u001b[0m\u001b[0m\n\u001b[0;32m     12\u001b[0m \u001b[1;33m\u001b[0m\u001b[0m\n",
      "\u001b[1;31mTypeError\u001b[0m: 'LineString' object is not iterable"
     ]
    }
   ],
   "source": [
    "#LineString\n",
    "\n",
    "# Create a LineString from our Point objects\n",
    "line = LineString([point1, point2, point3])\n",
    "\n",
    "# It is also possible to use coordinate tuples having the same outcome = a list of tuples\n",
    "line2 = LineString([(2.2, 4.2), (7.2, -25.1), (9.26, -2.456)])\n",
    "\n",
    "\n",
    "for i in line2:\n",
    "    print (i)\n",
    "\n",
    "print(line)\n",
    "print(line2)\n",
    "\n",
    "type(line)\n",
    "\n",
    "# Get x and y coordinates of the line\n",
    "lxy = line.xy\n",
    "\n",
    "print(lxy)\n",
    "\n",
    "\n",
    "\n",
    "\n",
    "# Extract x coordinates\n",
    "line_x = lxy[0]\n",
    "\n",
    "# Extract y coordinates straight from the LineObject by referring to a array at index 1\n",
    "line_y = line.xy[1]\n",
    "\n",
    "print(line_x)\n",
    "\n",
    "print(line_y)\n",
    "\n",
    "\n",
    "display(line2)\n",
    "\n",
    "\n",
    "\n",
    "\n",
    "\n",
    "\n",
    "# Get the lenght of the line\n",
    "l_length = line.length\n",
    "\n",
    "# Get the centroid of the line\n",
    "l_centroid = line.centroid\n",
    "display(l_centroid)\n",
    "\n",
    "# What type is the centroid?\n",
    "centroid_type = type(l_centroid)\n",
    "\n",
    "# Print the outputs\n",
    "print(\"Length of our line: {0:.2f}\".format(l_length))\n",
    "\n",
    "\n",
    "print(\"Centroid of our line: \", l_centroid)\n",
    "\n",
    "\n",
    "print(\"Type of the centroid:\", centroid_type)\n"
   ]
  },
  {
   "cell_type": "code",
   "execution_count": 45,
   "metadata": {},
   "outputs": [
    {
     "data": {
      "image/svg+xml": [
       "<svg xmlns=\"http://www.w3.org/2000/svg\" xmlns:xlink=\"http://www.w3.org/1999/xlink\" width=\"100.0\" height=\"100.0\" viewBox=\"1.028 -26.272000000000002 9.404 31.644000000000002\" preserveAspectRatio=\"xMinYMin meet\"><g transform=\"matrix(1,0,0,-1,0,-20.900000000000002)\"><path fill-rule=\"evenodd\" fill=\"#66cc99\" stroke=\"#555555\" stroke-width=\"0.63288\" opacity=\"0.6\" d=\"M 2.2,4.2 L 7.2,-25.1 L 9.26,-2.456 L 2.2,4.2 z\" /></g></svg>"
      ],
      "text/plain": [
       "<shapely.geometry.polygon.Polygon at 0x2ca95635b38>"
      ]
     },
     "metadata": {},
     "output_type": "display_data"
    },
    {
     "data": {
      "image/svg+xml": [
       "<svg xmlns=\"http://www.w3.org/2000/svg\" xmlns:xlink=\"http://www.w3.org/1999/xlink\" width=\"100.0\" height=\"100.0\" viewBox=\"5.22 -8.785333333333334 2.0 2.0\" preserveAspectRatio=\"xMinYMin meet\"><g transform=\"matrix(1,0,0,-1,0,-15.570666666666668)\"><circle cx=\"6.22\" cy=\"-7.785333333333334\" r=\"0.06\" stroke=\"#555555\" stroke-width=\"0.02\" fill=\"#66cc99\" opacity=\"0.6\" /></g></svg>"
      ],
      "text/plain": [
       "<shapely.geometry.point.Point at 0x2ca9561a080>"
      ]
     },
     "metadata": {},
     "output_type": "display_data"
    },
    {
     "name": "stdout",
     "output_type": "stream",
     "text": [
      "Pol area is 86.78900000000002 units\n"
     ]
    },
    {
     "ename": "NameError",
     "evalue": "name 'coord_lst' is not defined",
     "output_type": "error",
     "traceback": [
      "\u001b[1;31m---------------------------------------------------------------------------\u001b[0m",
      "\u001b[1;31mNameError\u001b[0m                                 Traceback (most recent call last)",
      "\u001b[1;32m<ipython-input-45-2656cf4c017a>\u001b[0m in \u001b[0;36m<module>\u001b[1;34m\u001b[0m\n\u001b[0;32m     13\u001b[0m \u001b[1;32mfor\u001b[0m \u001b[0mp\u001b[0m \u001b[1;32min\u001b[0m \u001b[0mpol_list\u001b[0m\u001b[1;33m:\u001b[0m\u001b[1;33m\u001b[0m\u001b[0m\n\u001b[0;32m     14\u001b[0m     \u001b[0mtup\u001b[0m\u001b[1;33m=\u001b[0m\u001b[1;33m(\u001b[0m\u001b[0mp\u001b[0m\u001b[1;33m.\u001b[0m\u001b[0mx\u001b[0m\u001b[1;33m,\u001b[0m \u001b[0mp\u001b[0m\u001b[1;33m.\u001b[0m\u001b[0my\u001b[0m\u001b[1;33m)\u001b[0m\u001b[1;33m\u001b[0m\u001b[0m\n\u001b[1;32m---> 15\u001b[1;33m     \u001b[0mcoord_lst\u001b[0m\u001b[1;33m.\u001b[0m\u001b[0mappend\u001b[0m\u001b[1;33m(\u001b[0m\u001b[0mtup\u001b[0m\u001b[1;33m)\u001b[0m\u001b[1;33m\u001b[0m\u001b[0m\n\u001b[0m\u001b[0;32m     16\u001b[0m \u001b[0mprint\u001b[0m \u001b[1;33m(\u001b[0m\u001b[0mcoord_lst\u001b[0m\u001b[1;33m)\u001b[0m\u001b[1;33m\u001b[0m\u001b[0m\n\u001b[0;32m     17\u001b[0m \u001b[0mpoly2\u001b[0m \u001b[1;33m=\u001b[0m \u001b[0mPolygon\u001b[0m\u001b[1;33m(\u001b[0m\u001b[1;33m[\u001b[0m\u001b[1;33m[\u001b[0m\u001b[0mp\u001b[0m\u001b[1;33m.\u001b[0m\u001b[0mx\u001b[0m\u001b[1;33m,\u001b[0m \u001b[0mp\u001b[0m\u001b[1;33m.\u001b[0m\u001b[0my\u001b[0m\u001b[1;33m]\u001b[0m \u001b[1;32mfor\u001b[0m \u001b[0mp\u001b[0m \u001b[1;32min\u001b[0m \u001b[1;33m[\u001b[0m\u001b[0mpoint1\u001b[0m\u001b[1;33m,\u001b[0m \u001b[0mpoint2\u001b[0m\u001b[1;33m,\u001b[0m \u001b[0mpoint3\u001b[0m\u001b[1;33m]\u001b[0m\u001b[1;33m]\u001b[0m\u001b[1;33m)\u001b[0m\u001b[1;33m\u001b[0m\u001b[0m\n",
      "\u001b[1;31mNameError\u001b[0m: name 'coord_lst' is not defined"
     ]
    }
   ],
   "source": [
    "# Polygon\n",
    "\n",
    "# Create a Polygon from the coordinates\n",
    "poly = Polygon([(2.2, 4.2), (7.2, -25.1), (9.26, -2.456)])\n",
    "display(poly)\n",
    "display(poly.centroid)\n",
    "print (\"Pol area is \"+str(poly.area)+\" units\")\n",
    "\n",
    "# We can also use our previously created Point objects (same outcome)\n",
    "# --> notice that Polygon object requires x,y coordinates as input\n",
    "pol_list=[point1, point2, point3]\n",
    "\n",
    "for p in pol_list:\n",
    "    tup=(p.x, p.y)\n",
    "    coord_lst.append(tup)\n",
    "print (coord_lst)\n",
    "\n",
    "poly2 = Polygon([[p.x, p.y] for p in [point1, point2, point3]])\n",
    "\n",
    "# Geometry type can be accessed as a String\n",
    "poly_type = poly.geom_type\n",
    "\n",
    "# Using the Python's type function gives the type in a different format\n",
    "poly_type2 = type(poly)\n",
    "\n",
    "# Let's see how our Polygon looks like\n",
    "print(poly)\n",
    "\n",
    "print(poly2)\n",
    "\n",
    "\n",
    "print(\"Geometry type as text:\", poly_type)\n",
    "\n",
    "\n",
    "print(\"Geometry how Python shows it:\", poly_type2)\n"
   ]
  },
  {
   "cell_type": "code",
   "execution_count": 53,
   "metadata": {},
   "outputs": [
    {
     "name": "stdout",
     "output_type": "stream",
     "text": [
      "2.2\n",
      "7.2\n",
      "9.26\n",
      "2.2\n",
      "4.2\n",
      "-25.1\n",
      "-2.456\n",
      "4.2\n"
     ]
    }
   ],
   "source": [
    "poly2\n",
    "poly2.exterior.xy\n",
    "for line in poly2.exterior.xy:\n",
    "    for single_coord in line:\n",
    "        print(single_coord)"
   ]
  },
  {
   "cell_type": "code",
   "execution_count": 65,
   "metadata": {},
   "outputs": [
    {
     "name": "stdout",
     "output_type": "stream",
     "text": [
      "POLYGON ((-180 90, -180 -90, 180 -90, 180 90, -180 90))\n",
      "POLYGON ((-180 90, -180 -90, 180 -90, 180 90, -180 90), (-170 80, -170 -80, 170 -80, 170 80, -170 80))\n",
      "(-180.0, -90.0, 180.0, 90.0)\n",
      "Poly centroid:  POINT (-0 -0)\n",
      "Poly Area:  64800.0\n",
      "Poly Bounding Box:  (-180.0, -90.0, 180.0, 90.0)\n",
      "Poly Exterior:  LINEARRING (-180 90, -180 -90, 180 -90, 180 90, -180 90)\n"
     ]
    },
    {
     "data": {
      "image/svg+xml": [
       "<svg xmlns=\"http://www.w3.org/2000/svg\" xmlns:xlink=\"http://www.w3.org/1999/xlink\" width=\"300\" height=\"208.8\" viewBox=\"-194.4 -104.4 388.8 208.8\" preserveAspectRatio=\"xMinYMin meet\"><g transform=\"matrix(1,0,0,-1,0,0.0)\"><polyline fill=\"none\" stroke=\"#66cc99\" stroke-width=\"2.592\" points=\"-180.0,90.0 -180.0,-90.0 180.0,-90.0 180.0,90.0 -180.0,90.0\" opacity=\"0.8\" /></g></svg>"
      ],
      "text/plain": [
       "<shapely.geometry.polygon.LinearRing at 0x2ca9573cef0>"
      ]
     },
     "metadata": {},
     "output_type": "display_data"
    },
    {
     "name": "stdout",
     "output_type": "stream",
     "text": [
      "Poly Exterior Length:  1080.0\n"
     ]
    }
   ],
   "source": [
    "world_exterior = [(-180, 90), (-180, -90), (180, -90), (180, 90)]\n",
    "\n",
    "# Let's create a single big hole where we leave ten decimal degrees at the boundaries of the world\n",
    "# Notice: there could be multiple holes, thus we need to provide a list of holes\n",
    "hole = [[(-170, 80), (-170, -80), (170, -80), (170, 80)]]\n",
    "\n",
    "# World without a hole\n",
    "world = Polygon(shell=world_exterior)\n",
    "\n",
    "# Now we can construct our Polygon with the hole inside\n",
    "world_has_a_hole = Polygon(shell=world_exterior, holes=hole)\n",
    "\n",
    "print(world)\n",
    "print(world_has_a_hole)\n",
    "type(world_has_a_hole)\n",
    "\n",
    "world_centroid = world.centroid\n",
    "\n",
    "# Get the area of the Polygon\n",
    "world_area = world.area\n",
    "\n",
    "# Get the bounds of the Polygon (i.e. bounding box)\n",
    "world_bbox = world.bounds\n",
    "\n",
    "# Get the exterior of the Polygon\n",
    "world_ext = world.exterior\n",
    "\n",
    "# Get the length of the exterior\n",
    "world_ext_length = world_ext.length\n",
    "print(world_bbox)\n",
    "\n",
    "\n",
    "\n",
    "\n",
    "print(\"Poly centroid: \", world_centroid)\n",
    "print(\"Poly Area: \", world_area)\n",
    "print(\"Poly Bounding Box: \", world_bbox)\n",
    "print(\"Poly Exterior: \", world_ext)\n",
    "display(world_ext)\n",
    "print(\"Poly Exterior Length: \", world_ext_length)\n"
   ]
  },
  {
   "cell_type": "code",
   "execution_count": 81,
   "metadata": {},
   "outputs": [
    {
     "name": "stdout",
     "output_type": "stream",
     "text": [
      "  Country or area Urban Agglomeration   Latitude   Longitude  Population_2015  \\\n",
      "0           Japan               Tokyo  35.689500  139.691710         38001018   \n",
      "1           India               Delhi  28.666670   77.216670         25703168   \n",
      "2           China            Shanghai  31.220000  121.460000         23740778   \n",
      "3          Brazil           S?o Paulo -23.550000  -46.640000         21066245   \n",
      "4           India     Mumbai (Bombay)  19.073975   72.880838         21042538   \n",
      "\n",
      "   Unnamed: 5  \n",
      "0         NaN  \n",
      "1         NaN  \n",
      "2         NaN  \n",
      "3         NaN  \n",
      "4         NaN  \n",
      "  Country or area Urban Agglomeration   Latitude   Longitude  Population_2015  \\\n",
      "0           Japan               Tokyo  35.689500  139.691710         38001018   \n",
      "1           India               Delhi  28.666670   77.216670         25703168   \n",
      "2           China            Shanghai  31.220000  121.460000         23740778   \n",
      "3          Brazil           S?o Paulo -23.550000  -46.640000         21066245   \n",
      "4           India     Mumbai (Bombay)  19.073975   72.880838         21042538   \n",
      "\n",
      "   Unnamed: 5                              points  \n",
      "0         NaN           POINT (139.69171 35.6895)  \n",
      "1         NaN  POINT (77.21666999999999 28.66667)  \n",
      "2         NaN                POINT (121.46 31.22)  \n",
      "3         NaN               POINT (-46.64 -23.55)  \n",
      "4         NaN         POINT (72.880838 19.073975)  \n"
     ]
    }
   ],
   "source": [
    "# Reading X/Y Coordinates from Text files\n",
    "import pandas as pd\n",
    "df = pd.read_csv(r'C:\\Users\\daiga86\\geopython\\L1\\global-city-population-estimates.csv', sep=';', encoding='latin1')\n",
    "\n",
    "# this option tells pandas to print up to 20 columns, typically a the print function will cut the output for better visibility\n",
    "# (depending on the size and dimension of the dataframe)\n",
    "pd.set_option('max_columns',20)\n",
    "\n",
    "print(df.head(5))\n",
    "\n",
    "def make_point(row):\n",
    "    return Point(row['Longitude'], row['Latitude'])\n",
    "\n",
    "\n",
    "df['points'] = df.apply(make_point, axis=1)\n",
    "\n",
    "print(df.head(5))\n",
    "\n"
   ]
  }
 ],
 "metadata": {
  "kernelspec": {
   "display_name": "Python 3",
   "language": "python",
   "name": "python3"
  },
  "language_info": {
   "codemirror_mode": {
    "name": "ipython",
    "version": 3
   },
   "file_extension": ".py",
   "mimetype": "text/x-python",
   "name": "python",
   "nbconvert_exporter": "python",
   "pygments_lexer": "ipython3",
   "version": "3.6.6"
  }
 },
 "nbformat": 4,
 "nbformat_minor": 2
}
